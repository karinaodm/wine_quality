{
 "cells": [
  {
   "cell_type": "markdown",
   "metadata": {},
   "source": [
    "MLP"
   ]
  },
  {
   "cell_type": "code",
   "execution_count": 1,
   "metadata": {},
   "outputs": [],
   "source": [
    "import os\n",
    "import numpy as np\n",
    "from sklearn.neural_network import MLPRegressor\n",
    "from sklearn.model_selection import GridSearchCV\n",
    "from sklearn.metrics import make_scorer, mean_absolute_error\n",
    "from sklearn.model_selection import StratifiedShuffleSplit\n",
    "\n",
    "import utils\n",
    "import metrics\n",
    "import data_tools"
   ]
  },
  {
   "cell_type": "markdown",
   "metadata": {},
   "source": [
    "To estimate quality of model I will use:<br>\n",
    "mean_average_error (mae)<br>\n",
    "weighted_mae<br>\n",
    "balanced_accuracy<br>\n",
    "confusion matrix<br>"
   ]
  },
  {
   "cell_type": "code",
   "execution_count": 2,
   "metadata": {},
   "outputs": [],
   "source": [
    "seed = 1528\n",
    "path2data = os.path.join('..', 'data', 'winequality-white.csv')\n",
    "data =  data_tools.Data(path2data, seed)\n",
    "data.scale()\n",
    "x_train, y_train, x_test, y_test = data.get_train_test()\n",
    "mae_scorer = make_scorer(mean_absolute_error, greater_is_better=False)\n",
    "weighted_mae_scorer = make_scorer(metrics.weighted_mae, greater_is_better=False, class_weights=data.class_weights)\n",
    "balanced_accuracy_scorer = make_scorer(metrics.balanced_accuracy_score, greater_is_better=True)"
   ]
  },
  {
   "cell_type": "markdown",
   "metadata": {},
   "source": [
    "I will choose parameters of MLPRegressor (hidden_layer_sizes, activation, alpha, learning_rate_init) using GridSearchCV with StratifiedShuffleSplit"
   ]
  },
  {
   "cell_type": "code",
   "execution_count": 3,
   "metadata": {},
   "outputs": [
    {
     "name": "stdout",
     "output_type": "stream",
     "text": [
      "Best: 0.254830 using {'activation': 'relu', 'alpha': 0.1, 'hidden_layer_sizes': (20,), 'learning_rate_init': 0.1}\n",
      "0.243625 (0.010382) with: {'activation': 'tanh', 'alpha': 0.1, 'hidden_layer_sizes': (20,), 'learning_rate_init': 0.1}\n",
      "0.236055 (0.005513) with: {'activation': 'tanh', 'alpha': 0.1, 'hidden_layer_sizes': (20,), 'learning_rate_init': 0.01}\n",
      "0.220623 (0.011964) with: {'activation': 'tanh', 'alpha': 0.1, 'hidden_layer_sizes': (20,), 'learning_rate_init': 0.001}\n",
      "0.247410 (0.009801) with: {'activation': 'tanh', 'alpha': 0.1, 'hidden_layer_sizes': (40,), 'learning_rate_init': 0.1}\n",
      "0.245841 (0.015747) with: {'activation': 'tanh', 'alpha': 0.1, 'hidden_layer_sizes': (40,), 'learning_rate_init': 0.01}\n",
      "0.221772 (0.008523) with: {'activation': 'tanh', 'alpha': 0.1, 'hidden_layer_sizes': (40,), 'learning_rate_init': 0.001}\n",
      "0.241640 (0.004512) with: {'activation': 'tanh', 'alpha': 0.1, 'hidden_layer_sizes': (20, 40), 'learning_rate_init': 0.1}\n",
      "0.246397 (0.016413) with: {'activation': 'tanh', 'alpha': 0.1, 'hidden_layer_sizes': (20, 40), 'learning_rate_init': 0.01}\n",
      "0.238965 (0.011226) with: {'activation': 'tanh', 'alpha': 0.1, 'hidden_layer_sizes': (20, 40), 'learning_rate_init': 0.001}\n",
      "0.224409 (0.015443) with: {'activation': 'tanh', 'alpha': 0.1, 'hidden_layer_sizes': (20, 40, 60), 'learning_rate_init': 0.1}\n",
      "0.239525 (0.006499) with: {'activation': 'tanh', 'alpha': 0.1, 'hidden_layer_sizes': (20, 40, 60), 'learning_rate_init': 0.01}\n",
      "0.238443 (0.004371) with: {'activation': 'tanh', 'alpha': 0.1, 'hidden_layer_sizes': (20, 40, 60), 'learning_rate_init': 0.001}\n",
      "0.242862 (0.007513) with: {'activation': 'tanh', 'alpha': 0.01, 'hidden_layer_sizes': (20,), 'learning_rate_init': 0.1}\n",
      "0.240498 (0.010075) with: {'activation': 'tanh', 'alpha': 0.01, 'hidden_layer_sizes': (20,), 'learning_rate_init': 0.01}\n",
      "0.218052 (0.001504) with: {'activation': 'tanh', 'alpha': 0.01, 'hidden_layer_sizes': (20,), 'learning_rate_init': 0.001}\n",
      "0.239495 (0.005434) with: {'activation': 'tanh', 'alpha': 0.01, 'hidden_layer_sizes': (40,), 'learning_rate_init': 0.1}\n",
      "0.246897 (0.008002) with: {'activation': 'tanh', 'alpha': 0.01, 'hidden_layer_sizes': (40,), 'learning_rate_init': 0.01}\n",
      "0.230269 (0.010964) with: {'activation': 'tanh', 'alpha': 0.01, 'hidden_layer_sizes': (40,), 'learning_rate_init': 0.001}\n",
      "0.229765 (0.009565) with: {'activation': 'tanh', 'alpha': 0.01, 'hidden_layer_sizes': (20, 40), 'learning_rate_init': 0.1}\n",
      "0.238688 (0.006364) with: {'activation': 'tanh', 'alpha': 0.01, 'hidden_layer_sizes': (20, 40), 'learning_rate_init': 0.01}\n",
      "0.234073 (0.005573) with: {'activation': 'tanh', 'alpha': 0.01, 'hidden_layer_sizes': (20, 40), 'learning_rate_init': 0.001}\n",
      "0.203870 (0.018755) with: {'activation': 'tanh', 'alpha': 0.01, 'hidden_layer_sizes': (20, 40, 60), 'learning_rate_init': 0.1}\n",
      "0.238780 (0.011936) with: {'activation': 'tanh', 'alpha': 0.01, 'hidden_layer_sizes': (20, 40, 60), 'learning_rate_init': 0.01}\n",
      "0.231388 (0.010205) with: {'activation': 'tanh', 'alpha': 0.01, 'hidden_layer_sizes': (20, 40, 60), 'learning_rate_init': 0.001}\n",
      "0.252145 (0.008559) with: {'activation': 'tanh', 'alpha': 0.001, 'hidden_layer_sizes': (20,), 'learning_rate_init': 0.1}\n",
      "0.241187 (0.008354) with: {'activation': 'tanh', 'alpha': 0.001, 'hidden_layer_sizes': (20,), 'learning_rate_init': 0.01}\n",
      "0.219936 (0.005757) with: {'activation': 'tanh', 'alpha': 0.001, 'hidden_layer_sizes': (20,), 'learning_rate_init': 0.001}\n",
      "0.235298 (0.011235) with: {'activation': 'tanh', 'alpha': 0.001, 'hidden_layer_sizes': (40,), 'learning_rate_init': 0.1}\n",
      "0.240365 (0.006249) with: {'activation': 'tanh', 'alpha': 0.001, 'hidden_layer_sizes': (40,), 'learning_rate_init': 0.01}\n",
      "0.222070 (0.002570) with: {'activation': 'tanh', 'alpha': 0.001, 'hidden_layer_sizes': (40,), 'learning_rate_init': 0.001}\n",
      "0.240242 (0.011252) with: {'activation': 'tanh', 'alpha': 0.001, 'hidden_layer_sizes': (20, 40), 'learning_rate_init': 0.1}\n",
      "0.239710 (0.013900) with: {'activation': 'tanh', 'alpha': 0.001, 'hidden_layer_sizes': (20, 40), 'learning_rate_init': 0.01}\n",
      "0.237208 (0.009645) with: {'activation': 'tanh', 'alpha': 0.001, 'hidden_layer_sizes': (20, 40), 'learning_rate_init': 0.001}\n",
      "0.200341 (0.016745) with: {'activation': 'tanh', 'alpha': 0.001, 'hidden_layer_sizes': (20, 40, 60), 'learning_rate_init': 0.1}\n",
      "0.236048 (0.006598) with: {'activation': 'tanh', 'alpha': 0.001, 'hidden_layer_sizes': (20, 40, 60), 'learning_rate_init': 0.01}\n",
      "0.239333 (0.012033) with: {'activation': 'tanh', 'alpha': 0.001, 'hidden_layer_sizes': (20, 40, 60), 'learning_rate_init': 0.001}\n",
      "0.254830 (0.010565) with: {'activation': 'relu', 'alpha': 0.1, 'hidden_layer_sizes': (20,), 'learning_rate_init': 0.1}\n",
      "0.238626 (0.005144) with: {'activation': 'relu', 'alpha': 0.1, 'hidden_layer_sizes': (20,), 'learning_rate_init': 0.01}\n",
      "0.166288 (0.014165) with: {'activation': 'relu', 'alpha': 0.1, 'hidden_layer_sizes': (20,), 'learning_rate_init': 0.001}\n",
      "0.246932 (0.010406) with: {'activation': 'relu', 'alpha': 0.1, 'hidden_layer_sizes': (40,), 'learning_rate_init': 0.1}\n",
      "0.236461 (0.009952) with: {'activation': 'relu', 'alpha': 0.1, 'hidden_layer_sizes': (40,), 'learning_rate_init': 0.01}\n",
      "0.187810 (0.008931) with: {'activation': 'relu', 'alpha': 0.1, 'hidden_layer_sizes': (40,), 'learning_rate_init': 0.001}\n",
      "0.241486 (0.012330) with: {'activation': 'relu', 'alpha': 0.1, 'hidden_layer_sizes': (20, 40), 'learning_rate_init': 0.1}\n",
      "0.233742 (0.007935) with: {'activation': 'relu', 'alpha': 0.1, 'hidden_layer_sizes': (20, 40), 'learning_rate_init': 0.01}\n",
      "0.217488 (0.013557) with: {'activation': 'relu', 'alpha': 0.1, 'hidden_layer_sizes': (20, 40), 'learning_rate_init': 0.001}\n",
      "0.198309 (0.047296) with: {'activation': 'relu', 'alpha': 0.1, 'hidden_layer_sizes': (20, 40, 60), 'learning_rate_init': 0.1}\n",
      "0.239873 (0.006795) with: {'activation': 'relu', 'alpha': 0.1, 'hidden_layer_sizes': (20, 40, 60), 'learning_rate_init': 0.01}\n",
      "0.231247 (0.012996) with: {'activation': 'relu', 'alpha': 0.1, 'hidden_layer_sizes': (20, 40, 60), 'learning_rate_init': 0.001}\n",
      "0.241495 (0.004485) with: {'activation': 'relu', 'alpha': 0.01, 'hidden_layer_sizes': (20,), 'learning_rate_init': 0.1}\n",
      "0.234085 (0.009895) with: {'activation': 'relu', 'alpha': 0.01, 'hidden_layer_sizes': (20,), 'learning_rate_init': 0.01}\n",
      "0.164134 (0.019252) with: {'activation': 'relu', 'alpha': 0.01, 'hidden_layer_sizes': (20,), 'learning_rate_init': 0.001}\n",
      "0.251757 (0.014076) with: {'activation': 'relu', 'alpha': 0.01, 'hidden_layer_sizes': (40,), 'learning_rate_init': 0.1}\n",
      "0.236177 (0.014107) with: {'activation': 'relu', 'alpha': 0.01, 'hidden_layer_sizes': (40,), 'learning_rate_init': 0.01}\n",
      "0.178526 (0.010857) with: {'activation': 'relu', 'alpha': 0.01, 'hidden_layer_sizes': (40,), 'learning_rate_init': 0.001}\n",
      "0.238034 (0.006967) with: {'activation': 'relu', 'alpha': 0.01, 'hidden_layer_sizes': (20, 40), 'learning_rate_init': 0.1}\n",
      "0.237226 (0.007813) with: {'activation': 'relu', 'alpha': 0.01, 'hidden_layer_sizes': (20, 40), 'learning_rate_init': 0.01}\n",
      "0.226901 (0.004886) with: {'activation': 'relu', 'alpha': 0.01, 'hidden_layer_sizes': (20, 40), 'learning_rate_init': 0.001}\n",
      "0.160028 (0.034341) with: {'activation': 'relu', 'alpha': 0.01, 'hidden_layer_sizes': (20, 40, 60), 'learning_rate_init': 0.1}\n",
      "0.231109 (0.008192) with: {'activation': 'relu', 'alpha': 0.01, 'hidden_layer_sizes': (20, 40, 60), 'learning_rate_init': 0.01}\n",
      "0.234090 (0.007465) with: {'activation': 'relu', 'alpha': 0.01, 'hidden_layer_sizes': (20, 40, 60), 'learning_rate_init': 0.001}\n",
      "0.239934 (0.017383) with: {'activation': 'relu', 'alpha': 0.001, 'hidden_layer_sizes': (20,), 'learning_rate_init': 0.1}\n",
      "0.236377 (0.012835) with: {'activation': 'relu', 'alpha': 0.001, 'hidden_layer_sizes': (20,), 'learning_rate_init': 0.01}\n",
      "0.161918 (0.006287) with: {'activation': 'relu', 'alpha': 0.001, 'hidden_layer_sizes': (20,), 'learning_rate_init': 0.001}\n",
      "0.252721 (0.011045) with: {'activation': 'relu', 'alpha': 0.001, 'hidden_layer_sizes': (40,), 'learning_rate_init': 0.1}\n",
      "0.243335 (0.011436) with: {'activation': 'relu', 'alpha': 0.001, 'hidden_layer_sizes': (40,), 'learning_rate_init': 0.01}\n",
      "0.184474 (0.013810) with: {'activation': 'relu', 'alpha': 0.001, 'hidden_layer_sizes': (40,), 'learning_rate_init': 0.001}\n",
      "0.235219 (0.009341) with: {'activation': 'relu', 'alpha': 0.001, 'hidden_layer_sizes': (20, 40), 'learning_rate_init': 0.1}\n",
      "0.225694 (0.009896) with: {'activation': 'relu', 'alpha': 0.001, 'hidden_layer_sizes': (20, 40), 'learning_rate_init': 0.01}\n",
      "0.218774 (0.004706) with: {'activation': 'relu', 'alpha': 0.001, 'hidden_layer_sizes': (20, 40), 'learning_rate_init': 0.001}\n",
      "0.174425 (0.039156) with: {'activation': 'relu', 'alpha': 0.001, 'hidden_layer_sizes': (20, 40, 60), 'learning_rate_init': 0.1}\n",
      "0.238149 (0.006024) with: {'activation': 'relu', 'alpha': 0.001, 'hidden_layer_sizes': (20, 40, 60), 'learning_rate_init': 0.01}\n",
      "0.233966 (0.010129) with: {'activation': 'relu', 'alpha': 0.001, 'hidden_layer_sizes': (20, 40, 60), 'learning_rate_init': 0.001}\n"
     ]
    }
   ],
   "source": [
    "model = GridSearchCV(MLPRegressor(batch_size=400, early_stopping=True, shuffle=True, max_iter=200, n_iter_no_change=50),\n",
    "                     param_grid={'hidden_layer_sizes': [(20,), (40,), (20, 40), (20, 40, 60)],\n",
    "                                 'activation': ['tanh', 'relu'],\n",
    "                                 'alpha': [0.1, 0.01, 0.001],\n",
    "                                 'learning_rate_init': [0.1, 0.01, 0.001]},\n",
    "                     scoring=balanced_accuracy_scorer,\n",
    "                     cv=StratifiedShuffleSplit(n_splits=5, test_size=0.5, random_state=seed),\n",
    "                     n_jobs=-1)\n",
    "model.fit(x_train, y_train)\n",
    "y_pred = model.predict(x_test)\n",
    "y_pred_train = model.predict(x_train)\n",
    "print(\"Best: %f using %s\" % (model.best_score_, model.best_params_))\n",
    "means = model.cv_results_['mean_test_score']\n",
    "stds = model.cv_results_['std_test_score']\n",
    "params = model.cv_results_['params']\n",
    "for mean, stdev, param in zip(means, stds, params):\n",
    "    print(\"%f (%f) with: %r\" % (mean, stdev, param))"
   ]
  },
  {
   "cell_type": "code",
   "execution_count": 4,
   "metadata": {},
   "outputs": [
    {
     "name": "stdout",
     "output_type": "stream",
     "text": [
      "\n",
      "Train\n",
      "MAE: 0.537581\n",
      "Weighted MAE: 1.2152\n",
      "Balanced accuracy score: 0.2750\n",
      "\n",
      "Test\n",
      "MAE: 0.577025\n",
      "Weighted MAE: 1.2710\n",
      "Balanced accuracy score: 0.2425\n",
      "Confusion matrix:\n",
      " [[  0   0   3   3   0   0   0]\n",
      " [  0   7  27  11   1   0   0]\n",
      " [  0   9 206 133   5   0   0]\n",
      " [  0   0 125 379  33   0   0]\n",
      " [  0   0  11 143  53   0   0]\n",
      " [  0   0   0  27  12   0   0]\n",
      " [  0   0   0   0   1   0   0]]\n"
     ]
    },
    {
     "data": {
      "image/png": "[encoded data removed]",
      "text/plain": [
       "<Figure size 432x288 with 2 Axes>"
      ]
     },
     "metadata": {},
     "output_type": "display_data"
    }
   ],
   "source": [
    "utils.print_metrics(\"Train\", y_train, y_pred_train, data.classes, data.class_weights, draw_conf_matrix=False)\n",
    "utils.print_metrics(\"Test\", y_test, y_pred, data.classes, data.class_weights, draw_conf_matrix=True)"
   ]
  },
  {
   "cell_type": "markdown",
   "metadata": {},
   "source": [
    "Save best model"
   ]
  },
  {
   "cell_type": "code",
   "execution_count": 5,
   "metadata": {},
   "outputs": [
    {
     "data": {
      "text/plain": [
       "['..\\\\models\\\\mlp.joblib']"
      ]
     },
     "execution_count": 5,
     "metadata": {},
     "output_type": "execute_result"
    }
   ],
   "source": [
    "from joblib import dump\n",
    "dump(model, os.path.join('..', 'models', 'mlp.joblib')) "
   ]
  }
 ],
 "metadata": {
  "kernelspec": {
   "display_name": "Python 3",
   "language": "python",
   "name": "python3"
  },
  "language_info": {
   "codemirror_mode": {
    "name": "ipython",
    "version": 3
   },
   "file_extension": ".py",
   "mimetype": "text/x-python",
   "name": "python",
   "nbconvert_exporter": "python",
   "pygments_lexer": "ipython3",
   "version": "3.6.5"
  }
 },
 "nbformat": 4,
 "nbformat_minor": 2
}
