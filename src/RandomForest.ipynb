{
 "cells": [
  {
   "cell_type": "markdown",
   "metadata": {},
   "source": [
    "Random Forest"
   ]
  },
  {
   "cell_type": "code",
   "execution_count": 1,
   "metadata": {},
   "outputs": [],
   "source": [
    "import os\n",
    "import numpy as np\n",
    "from sklearn.ensemble import RandomForestRegressor\n",
    "from sklearn.model_selection import GridSearchCV\n",
    "from sklearn.metrics import make_scorer, mean_absolute_error\n",
    "from sklearn.model_selection import StratifiedShuffleSplit\n",
    "\n",
    "import utils\n",
    "import metrics\n",
    "import data_tools"
   ]
  },
  {
   "cell_type": "markdown",
   "metadata": {},
   "source": [
    "To estimate quality of model I will use:<br>\n",
    "mean_average_error (mae)<br>\n",
    "weighted_mae<br>\n",
    "balanced_accuracy<br>\n",
    "confusion matrix<br>"
   ]
  },
  {
   "cell_type": "code",
   "execution_count": 2,
   "metadata": {},
   "outputs": [],
   "source": [
    "seed = 1528\n",
    "path2data = os.path.join('..', 'data', 'winequality-white.csv')\n",
    "data =  data_tools.Data(path2data, seed)\n",
    "x_train, y_train, x_test, y_test = data.get_train_test()\n",
    "mae_scorer = make_scorer(mean_absolute_error, greater_is_better=False)\n",
    "weighted_mae_scorer = make_scorer(metrics.weighted_mae, greater_is_better=False, class_weights=data.class_weights)\n",
    "balanced_accuracy_scorer = make_scorer(metrics.balanced_accuracy_score, greater_is_better=True)"
   ]
  },
  {
   "cell_type": "markdown",
   "metadata": {},
   "source": [
    "I will choose parameters of RandomForestRegressor (n_estimators, max_depth, min_samples_split) using GridSearchCV with StratifiedShuffleSplit"
   ]
  },
  {
   "cell_type": "code",
   "execution_count": 3,
   "metadata": {},
   "outputs": [
    {
     "name": "stdout",
     "output_type": "stream",
     "text": [
      "Best: 0.237200 using {'max_depth': 40, 'min_samples_split': 10, 'n_estimators': 5}\n",
      "0.224969 (0.017166) with: {'max_depth': 5, 'min_samples_split': 2, 'n_estimators': 2}\n",
      "0.223146 (0.010356) with: {'max_depth': 5, 'min_samples_split': 2, 'n_estimators': 5}\n",
      "0.223215 (0.009601) with: {'max_depth': 5, 'min_samples_split': 2, 'n_estimators': 10}\n",
      "0.221462 (0.006732) with: {'max_depth': 5, 'min_samples_split': 2, 'n_estimators': 20}\n",
      "0.222685 (0.013703) with: {'max_depth': 5, 'min_samples_split': 10, 'n_estimators': 2}\n",
      "0.223859 (0.011074) with: {'max_depth': 5, 'min_samples_split': 10, 'n_estimators': 5}\n",
      "0.220511 (0.007283) with: {'max_depth': 5, 'min_samples_split': 10, 'n_estimators': 10}\n",
      "0.222960 (0.008919) with: {'max_depth': 5, 'min_samples_split': 10, 'n_estimators': 20}\n",
      "0.219968 (0.013326) with: {'max_depth': 5, 'min_samples_split': 20, 'n_estimators': 2}\n",
      "0.223843 (0.010493) with: {'max_depth': 5, 'min_samples_split': 20, 'n_estimators': 5}\n",
      "0.219695 (0.006125) with: {'max_depth': 5, 'min_samples_split': 20, 'n_estimators': 10}\n",
      "0.222010 (0.007273) with: {'max_depth': 5, 'min_samples_split': 20, 'n_estimators': 20}\n",
      "0.234897 (0.010458) with: {'max_depth': 10, 'min_samples_split': 2, 'n_estimators': 2}\n",
      "0.229833 (0.007235) with: {'max_depth': 10, 'min_samples_split': 2, 'n_estimators': 5}\n",
      "0.232212 (0.008435) with: {'max_depth': 10, 'min_samples_split': 2, 'n_estimators': 10}\n",
      "0.232384 (0.008848) with: {'max_depth': 10, 'min_samples_split': 2, 'n_estimators': 20}\n",
      "0.233234 (0.008657) with: {'max_depth': 10, 'min_samples_split': 10, 'n_estimators': 2}\n",
      "0.233863 (0.009165) with: {'max_depth': 10, 'min_samples_split': 10, 'n_estimators': 5}\n",
      "0.230524 (0.009792) with: {'max_depth': 10, 'min_samples_split': 10, 'n_estimators': 10}\n",
      "0.228155 (0.009921) with: {'max_depth': 10, 'min_samples_split': 10, 'n_estimators': 20}\n",
      "0.228797 (0.010261) with: {'max_depth': 10, 'min_samples_split': 20, 'n_estimators': 2}\n",
      "0.230649 (0.012222) with: {'max_depth': 10, 'min_samples_split': 20, 'n_estimators': 5}\n",
      "0.228522 (0.007700) with: {'max_depth': 10, 'min_samples_split': 20, 'n_estimators': 10}\n",
      "0.227617 (0.008277) with: {'max_depth': 10, 'min_samples_split': 20, 'n_estimators': 20}\n",
      "0.221233 (0.010505) with: {'max_depth': 20, 'min_samples_split': 2, 'n_estimators': 2}\n",
      "0.235372 (0.008015) with: {'max_depth': 20, 'min_samples_split': 2, 'n_estimators': 5}\n",
      "0.236564 (0.012755) with: {'max_depth': 20, 'min_samples_split': 2, 'n_estimators': 10}\n",
      "0.234104 (0.010656) with: {'max_depth': 20, 'min_samples_split': 2, 'n_estimators': 20}\n",
      "0.228722 (0.009370) with: {'max_depth': 20, 'min_samples_split': 10, 'n_estimators': 2}\n",
      "0.236565 (0.006138) with: {'max_depth': 20, 'min_samples_split': 10, 'n_estimators': 5}\n",
      "0.233711 (0.006450) with: {'max_depth': 20, 'min_samples_split': 10, 'n_estimators': 10}\n",
      "0.233654 (0.007404) with: {'max_depth': 20, 'min_samples_split': 10, 'n_estimators': 20}\n",
      "0.226439 (0.012419) with: {'max_depth': 20, 'min_samples_split': 20, 'n_estimators': 2}\n",
      "0.231300 (0.010448) with: {'max_depth': 20, 'min_samples_split': 20, 'n_estimators': 5}\n",
      "0.229247 (0.005433) with: {'max_depth': 20, 'min_samples_split': 20, 'n_estimators': 10}\n",
      "0.230494 (0.007256) with: {'max_depth': 20, 'min_samples_split': 20, 'n_estimators': 20}\n",
      "0.219084 (0.012837) with: {'max_depth': 40, 'min_samples_split': 2, 'n_estimators': 2}\n",
      "0.232544 (0.010776) with: {'max_depth': 40, 'min_samples_split': 2, 'n_estimators': 5}\n",
      "0.234377 (0.014307) with: {'max_depth': 40, 'min_samples_split': 2, 'n_estimators': 10}\n",
      "0.232947 (0.010331) with: {'max_depth': 40, 'min_samples_split': 2, 'n_estimators': 20}\n",
      "0.227729 (0.007847) with: {'max_depth': 40, 'min_samples_split': 10, 'n_estimators': 2}\n",
      "0.237200 (0.006058) with: {'max_depth': 40, 'min_samples_split': 10, 'n_estimators': 5}\n",
      "0.233420 (0.005630) with: {'max_depth': 40, 'min_samples_split': 10, 'n_estimators': 10}\n",
      "0.234090 (0.007364) with: {'max_depth': 40, 'min_samples_split': 10, 'n_estimators': 20}\n",
      "0.226320 (0.012350) with: {'max_depth': 40, 'min_samples_split': 20, 'n_estimators': 2}\n",
      "0.231446 (0.010311) with: {'max_depth': 40, 'min_samples_split': 20, 'n_estimators': 5}\n",
      "0.229132 (0.005497) with: {'max_depth': 40, 'min_samples_split': 20, 'n_estimators': 10}\n",
      "0.230680 (0.007128) with: {'max_depth': 40, 'min_samples_split': 20, 'n_estimators': 20}\n"
     ]
    }
   ],
   "source": [
    "model = GridSearchCV(RandomForestRegressor(criterion='mse', random_state=seed),\n",
    "                     param_grid={'n_estimators': [2, 5, 10, 20],\n",
    "                                 'max_depth': [5, 10, 20, 40],\n",
    "                                 'min_samples_split': [2, 10, 20]}, \n",
    "                     scoring=balanced_accuracy_scorer,\n",
    "                     cv=StratifiedShuffleSplit(n_splits=5, test_size=0.5, random_state=seed),\n",
    "                     n_jobs=-1)\n",
    "model.fit(x_train, y_train)\n",
    "y_pred = model.predict(x_test)\n",
    "y_pred_train = model.predict(x_train)\n",
    "print(\"Best: %f using %s\" % (model.best_score_, model.best_params_))\n",
    "means = model.cv_results_['mean_test_score']\n",
    "stds = model.cv_results_['std_test_score']\n",
    "params = model.cv_results_['params']\n",
    "for mean, stdev, param in zip(means, stds, params):\n",
    "    print(\"%f (%f) with: %r\" % (mean, stdev, param))"
   ]
  },
  {
   "cell_type": "markdown",
   "metadata": {},
   "source": [
    "Max_depth=5 is not enough.<br>\n",
    "n_estimators<=5 is not enough."
   ]
  },
  {
   "cell_type": "code",
   "execution_count": 4,
   "metadata": {},
   "outputs": [
    {
     "name": "stdout",
     "output_type": "stream",
     "text": [
      "\n",
      "Train\n",
      "MAE: 0.338836\n",
      "Weighted MAE: 0.7533\n",
      "Balanced accuracy score: 0.4544\n",
      "\n",
      "Test\n",
      "MAE: 0.583877\n",
      "Weighted MAE: 1.3019\n",
      "Balanced accuracy score: 0.2343\n",
      "Confusion matrix:\n",
      " [[  0   0   2   4   0   0   0]\n",
      " [  0   4  29  12   1   0   0]\n",
      " [  0   4 186 149  14   0   0]\n",
      " [  0   0 110 341  86   0   0]\n",
      " [  0   0   6 120  81   0   0]\n",
      " [  0   0   0  20  19   0   0]\n",
      " [  0   0   0   1   0   0   0]]\n"
     ]
    },
    {
     "data": {
      "image/png": "[encoded data removed]",
      "text/plain": [
       "<Figure size 432x288 with 2 Axes>"
      ]
     },
     "metadata": {},
     "output_type": "display_data"
    }
   ],
   "source": [
    "utils.print_metrics(\"Train\", y_train, y_pred_train, data.classes, data.class_weights, draw_conf_matrix=False)\n",
    "utils.print_metrics(\"Test\", y_test, y_pred, data.classes, data.class_weights, draw_conf_matrix=True)"
   ]
  },
  {
   "cell_type": "markdown",
   "metadata": {},
   "source": [
    "Try weighted_mae_scorer"
   ]
  },
  {
   "cell_type": "code",
   "execution_count": 5,
   "metadata": {},
   "outputs": [
    {
     "name": "stdout",
     "output_type": "stream",
     "text": [
      "Best: -1.371284 using {'max_depth': 20, 'min_samples_split': 2, 'n_estimators': 30}\n",
      "-1.408460 (0.049680) with: {'max_depth': 10, 'min_samples_split': 2, 'n_estimators': 10}\n",
      "-1.393302 (0.043283) with: {'max_depth': 10, 'min_samples_split': 2, 'n_estimators': 20}\n",
      "-1.382672 (0.047122) with: {'max_depth': 10, 'min_samples_split': 2, 'n_estimators': 30}\n",
      "-1.402136 (0.052821) with: {'max_depth': 10, 'min_samples_split': 10, 'n_estimators': 10}\n",
      "-1.389671 (0.039219) with: {'max_depth': 10, 'min_samples_split': 10, 'n_estimators': 20}\n",
      "-1.382063 (0.045633) with: {'max_depth': 10, 'min_samples_split': 10, 'n_estimators': 30}\n",
      "-1.411322 (0.041867) with: {'max_depth': 10, 'min_samples_split': 20, 'n_estimators': 10}\n",
      "-1.394680 (0.034069) with: {'max_depth': 10, 'min_samples_split': 20, 'n_estimators': 20}\n",
      "-1.389512 (0.040816) with: {'max_depth': 10, 'min_samples_split': 20, 'n_estimators': 30}\n",
      "-1.396358 (0.039191) with: {'max_depth': 20, 'min_samples_split': 2, 'n_estimators': 10}\n",
      "-1.377924 (0.040036) with: {'max_depth': 20, 'min_samples_split': 2, 'n_estimators': 20}\n",
      "-1.371284 (0.046656) with: {'max_depth': 20, 'min_samples_split': 2, 'n_estimators': 30}\n",
      "-1.402027 (0.054315) with: {'max_depth': 20, 'min_samples_split': 10, 'n_estimators': 10}\n",
      "-1.378112 (0.040801) with: {'max_depth': 20, 'min_samples_split': 10, 'n_estimators': 20}\n",
      "-1.372118 (0.047131) with: {'max_depth': 20, 'min_samples_split': 10, 'n_estimators': 30}\n",
      "-1.405923 (0.048185) with: {'max_depth': 20, 'min_samples_split': 20, 'n_estimators': 10}\n",
      "-1.389738 (0.035702) with: {'max_depth': 20, 'min_samples_split': 20, 'n_estimators': 20}\n",
      "-1.383211 (0.042902) with: {'max_depth': 20, 'min_samples_split': 20, 'n_estimators': 30}\n",
      "-1.396208 (0.043758) with: {'max_depth': 40, 'min_samples_split': 2, 'n_estimators': 10}\n",
      "-1.380705 (0.040890) with: {'max_depth': 40, 'min_samples_split': 2, 'n_estimators': 20}\n",
      "-1.374673 (0.048842) with: {'max_depth': 40, 'min_samples_split': 2, 'n_estimators': 30}\n",
      "-1.401560 (0.054191) with: {'max_depth': 40, 'min_samples_split': 10, 'n_estimators': 10}\n",
      "-1.377913 (0.040008) with: {'max_depth': 40, 'min_samples_split': 10, 'n_estimators': 20}\n",
      "-1.372023 (0.046538) with: {'max_depth': 40, 'min_samples_split': 10, 'n_estimators': 30}\n",
      "-1.405904 (0.048220) with: {'max_depth': 40, 'min_samples_split': 20, 'n_estimators': 10}\n",
      "-1.389830 (0.035828) with: {'max_depth': 40, 'min_samples_split': 20, 'n_estimators': 20}\n",
      "-1.383172 (0.043054) with: {'max_depth': 40, 'min_samples_split': 20, 'n_estimators': 30}\n",
      "\n",
      "Train\n",
      "MAE: 0.212757\n",
      "Weighted MAE: 0.4964\n",
      "Balanced accuracy score: 0.5652\n",
      "\n",
      "Test\n",
      "MAE: 0.551790\n",
      "Weighted MAE: 1.2890\n",
      "Balanced accuracy score: 0.2438\n",
      "Confusion matrix:\n",
      " [[  0   0   2   4   0   0   0]\n",
      " [  0   2  28  16   0   0   0]\n",
      " [  0   2 187 158   6   0   0]\n",
      " [  0   0  91 388  58   0   0]\n",
      " [  0   0   7 115  85   0   0]\n",
      " [  0   0   0  18  21   0   0]\n",
      " [  0   0   0   0   1   0   0]]\n"
     ]
    },
    {
     "data": {
      "image/png": "[encoded data removed]",
      "text/plain": [
       "<Figure size 432x288 with 2 Axes>"
      ]
     },
     "metadata": {},
     "output_type": "display_data"
    }
   ],
   "source": [
    "model = GridSearchCV(RandomForestRegressor(criterion='mse', random_state=seed),\n",
    "                     param_grid={'n_estimators': [10, 20, 30],\n",
    "                                 'max_depth': [10, 20, 40],\n",
    "                                 'min_samples_split': [2, 10, 20]}, \n",
    "                     scoring=weighted_mae_scorer,\n",
    "                     cv=StratifiedShuffleSplit(n_splits=5, test_size=0.5, random_state=seed),\n",
    "                     n_jobs=-1)\n",
    "model.fit(x_train, y_train)\n",
    "y_pred = model.predict(x_test)\n",
    "y_pred_train = model.predict(x_train)\n",
    "print(\"Best: %f using %s\" % (model.best_score_, model.best_params_))\n",
    "means = model.cv_results_['mean_test_score']\n",
    "stds = model.cv_results_['std_test_score']\n",
    "params = model.cv_results_['params']\n",
    "for mean, stdev, param in zip(means, stds, params):\n",
    "    print(\"%f (%f) with: %r\" % (mean, stdev, param))\n",
    "utils.print_metrics(\"Train\", y_train, y_pred_train, data.classes, data.class_weights, draw_conf_matrix=False)\n",
    "utils.print_metrics(\"Test\", y_test, y_pred, data.classes, data.class_weights, draw_conf_matrix=True)"
   ]
  },
  {
   "cell_type": "markdown",
   "metadata": {},
   "source": [
    "Save best model"
   ]
  },
  {
   "cell_type": "code",
   "execution_count": 6,
   "metadata": {},
   "outputs": [
    {
     "data": {
      "text/plain": [
       "['..\\\\models\\\\rf.joblib']"
      ]
     },
     "execution_count": 6,
     "metadata": {},
     "output_type": "execute_result"
    }
   ],
   "source": [
    "from joblib import dump\n",
    "dump(model, os.path.join('..', 'models', 'rf.joblib'))"
   ]
  },
  {
   "cell_type": "code",
   "execution_count": 7,
   "metadata": {},
   "outputs": [
    {
     "name": "stdout",
     "output_type": "stream",
     "text": [
      "Feature importances\n",
      "fixed acidity: 0.0675\n",
      "volatile acidity: 0.1249\n",
      "citric acid: 0.0491\n",
      "residual sugar: 0.0613\n",
      "chlorides: 0.0655\n",
      "free sulfur dioxide: 0.1182\n",
      "total sulfur dioxide: 0.0676\n",
      "density: 0.0597\n",
      "pH: 0.0711\n",
      "sulphates: 0.0642\n",
      "alcohol: 0.2508\n"
     ]
    }
   ],
   "source": [
    "print(\"Feature importances\")\n",
    "for cn, fi in zip(data.column_names, model.best_estimator_.feature_importances_):\n",
    "    print('%s: %.4f' % (cn, fi))"
   ]
  },
  {
   "cell_type": "markdown",
   "metadata": {},
   "source": [
    "Citric acid has the least importance."
   ]
  }
 ],
 "metadata": {
  "kernelspec": {
   "display_name": "Python 3",
   "language": "python",
   "name": "python3"
  },
  "language_info": {
   "codemirror_mode": {
    "name": "ipython",
    "version": 3
   },
   "file_extension": ".py",
   "mimetype": "text/x-python",
   "name": "python",
   "nbconvert_exporter": "python",
   "pygments_lexer": "ipython3",
   "version": "3.6.5"
  }
 },
 "nbformat": 4,
 "nbformat_minor": 2
}
